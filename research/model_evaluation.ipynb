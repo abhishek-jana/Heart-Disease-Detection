{
 "cells": [
  {
   "cell_type": "code",
   "execution_count": 1,
   "metadata": {},
   "outputs": [
    {
     "data": {
      "text/plain": [
       "'/home/ajana/Code/MLProjects/Heart-Disease-Detection/research'"
      ]
     },
     "execution_count": 1,
     "metadata": {},
     "output_type": "execute_result"
    }
   ],
   "source": [
    "import os\n",
    "os.getcwd()"
   ]
  },
  {
   "cell_type": "code",
   "execution_count": 2,
   "metadata": {},
   "outputs": [],
   "source": [
    "os.chdir('../')"
   ]
  },
  {
   "cell_type": "code",
   "execution_count": 3,
   "metadata": {},
   "outputs": [
    {
     "data": {
      "text/plain": [
       "'/home/ajana/Code/MLProjects/Heart-Disease-Detection'"
      ]
     },
     "execution_count": 3,
     "metadata": {},
     "output_type": "execute_result"
    }
   ],
   "source": [
    "os.getcwd()"
   ]
  },
  {
   "cell_type": "code",
   "execution_count": 4,
   "metadata": {},
   "outputs": [],
   "source": [
    "from heart.entity.artifact_entity import (DataValidationArtifact,DataTransformationArtifact,\n",
    "                                        ModelTrainerArtifact,ModelEvaluationArtifact)\n",
    "from heart.entity.config_entity import ModelEvaluationConfig\n",
    "import os,sys\n",
    "from heart.ml.metric.classification_metric import get_classification_score\n",
    "from heart.ml.model.estimator import HeartModel\n",
    "from heart.utils import save_object,load_object,write_yaml_file\n",
    "from heart.ml.model.estimator import ModelResolver\n",
    "from heart.constant.training_pipeline import TARGET_COLUMN\n",
    "import pandas  as  pd"
   ]
  },
  {
   "cell_type": "code",
   "execution_count": 5,
   "metadata": {},
   "outputs": [
    {
     "name": "stdout",
     "output_type": "stream",
     "text": [
      "Warning: Your Kaggle API key is readable by other users on this system! To fix this, you can run 'chmod 600 .kaggle/kaggle.json'\n"
     ]
    }
   ],
   "source": [
    "from heart.pipeline.training_pipeline import TrainingPipeline\n",
    "from heart.entity.config_entity import TrainingPipelineConfig"
   ]
  },
  {
   "cell_type": "code",
   "execution_count": 6,
   "metadata": {},
   "outputs": [],
   "source": [
    "training_config= TrainingPipelineConfig()\n",
    "training_pipeline = TrainingPipeline(training_config=training_config)"
   ]
  },
  {
   "cell_type": "code",
   "execution_count": 7,
   "metadata": {},
   "outputs": [
    {
     "name": "stdout",
     "output_type": "stream",
     "text": [
      "Warning: Your Kaggle API key is readable by other users on this system! To fix this, you can run 'chmod 600 .kaggle/kaggle.json'\n"
     ]
    }
   ],
   "source": [
    "data_ingestion_artifact = training_pipeline.start_data_ingestion()\n",
    "data_validation_artifact = training_pipeline.start_data_validation(data_ingestion_artifact=data_ingestion_artifact)\n",
    "data_transformation_artifact = training_pipeline.start_data_transformation(data_validation_artifact=data_validation_artifact)\n",
    "model_trainer_artifact = training_pipeline.start_model_trainer(data_transformation_artifact)"
   ]
  },
  {
   "cell_type": "code",
   "execution_count": 8,
   "metadata": {},
   "outputs": [],
   "source": [
    "model_resolver = ModelResolver()"
   ]
  },
  {
   "cell_type": "code",
   "execution_count": 9,
   "metadata": {},
   "outputs": [
    {
     "data": {
      "text/plain": [
       "'transformed'"
      ]
     },
     "execution_count": 9,
     "metadata": {},
     "output_type": "execute_result"
    }
   ],
   "source": [
    "model_resolver.transformer_dir_name"
   ]
  },
  {
   "cell_type": "code",
   "execution_count": 10,
   "metadata": {},
   "outputs": [],
   "source": [
    "latest_dir_path = model_resolver.get_latest_dir_path()\n"
   ]
  },
  {
   "cell_type": "code",
   "execution_count": 11,
   "metadata": {},
   "outputs": [
    {
     "data": {
      "text/plain": [
       "ModelEvaluationArtifact(is_model_accepted=True, improved_accuracy=None, best_model_path=None, trained_model_path='artifact/01_04_2024_02_04_32/model_trainer/model/model.pkl', train_model_metric_artifact=ClassificationMetricArtifact(f1_score=0.9845201238390092, precision_score=0.9875776397515528, recall_score=0.9814814814814815), best_model_metric_artifact=None)"
      ]
     },
     "execution_count": 11,
     "metadata": {},
     "output_type": "execute_result"
    }
   ],
   "source": [
    "if latest_dir_path==None:\n",
    "    is_model_accepted=True\n",
    "    model_evaluation_artifact = ModelEvaluationArtifact(\n",
    "        is_model_accepted=is_model_accepted, \n",
    "        improved_accuracy=None, \n",
    "        best_model_path=None, \n",
    "        trained_model_path=model_trainer_artifact.trained_model_file_path, \n",
    "        train_model_metric_artifact=model_trainer_artifact.test_metric_artifact, \n",
    "        best_model_metric_artifact=None)\n",
    "model_evaluation_artifact"
   ]
  },
  {
   "cell_type": "code",
   "execution_count": 20,
   "metadata": {},
   "outputs": [
    {
     "ename": "Exception",
     "evalue": "Transformer is not available",
     "output_type": "error",
     "traceback": [
      "\u001b[0;31m---------------------------------------------------------------------------\u001b[0m",
      "\u001b[0;31mException\u001b[0m                                 Traceback (most recent call last)",
      "Cell \u001b[0;32mIn[20], line 2\u001b[0m\n\u001b[1;32m      1\u001b[0m \u001b[38;5;66;03m#Finding location of transformer and target encoder\u001b[39;00m\n\u001b[0;32m----> 2\u001b[0m transformer_path \u001b[38;5;241m=\u001b[39m \u001b[43mmodel_resolver\u001b[49m\u001b[38;5;241;43m.\u001b[39;49m\u001b[43mget_latest_transformer_path\u001b[49m\u001b[43m(\u001b[49m\u001b[43m)\u001b[49m\n\u001b[1;32m      3\u001b[0m model_path \u001b[38;5;241m=\u001b[39m model_resolver\u001b[38;5;241m.\u001b[39mget_latest_model_path()\n\u001b[1;32m      4\u001b[0m target_encoder_path \u001b[38;5;241m=\u001b[39m model_resolver\u001b[38;5;241m.\u001b[39mget_latest_target_encoder_path()\n",
      "File \u001b[0;32m~/Code/MLProjects/Heart-Disease-Detection/heart/ml/model/estimator.py:72\u001b[0m, in \u001b[0;36mModelResolver.get_latest_transformer_path\u001b[0;34m(self)\u001b[0m\n\u001b[1;32m     70\u001b[0m     \u001b[38;5;28;01mreturn\u001b[39;00m os\u001b[38;5;241m.\u001b[39mpath\u001b[38;5;241m.\u001b[39mjoin(latest_dir,\u001b[38;5;28mself\u001b[39m\u001b[38;5;241m.\u001b[39mtransformer_dir_name,PREPROCSSING_OBJECT_FILE_NAME)\n\u001b[1;32m     71\u001b[0m \u001b[38;5;28;01mexcept\u001b[39;00m \u001b[38;5;167;01mException\u001b[39;00m \u001b[38;5;28;01mas\u001b[39;00m e:\n\u001b[0;32m---> 72\u001b[0m     \u001b[38;5;28;01mraise\u001b[39;00m e\n",
      "File \u001b[0;32m~/Code/MLProjects/Heart-Disease-Detection/heart/ml/model/estimator.py:69\u001b[0m, in \u001b[0;36mModelResolver.get_latest_transformer_path\u001b[0;34m(self)\u001b[0m\n\u001b[1;32m     67\u001b[0m     latest_dir \u001b[38;5;241m=\u001b[39m \u001b[38;5;28mself\u001b[39m\u001b[38;5;241m.\u001b[39mget_latest_dir_path()\n\u001b[1;32m     68\u001b[0m     \u001b[38;5;28;01mif\u001b[39;00m latest_dir \u001b[38;5;129;01mis\u001b[39;00m \u001b[38;5;28;01mNone\u001b[39;00m:\n\u001b[0;32m---> 69\u001b[0m         \u001b[38;5;28;01mraise\u001b[39;00m \u001b[38;5;167;01mException\u001b[39;00m(\u001b[38;5;124mf\u001b[39m\u001b[38;5;124m\"\u001b[39m\u001b[38;5;124mTransformer is not available\u001b[39m\u001b[38;5;124m\"\u001b[39m)\n\u001b[1;32m     70\u001b[0m     \u001b[38;5;28;01mreturn\u001b[39;00m os\u001b[38;5;241m.\u001b[39mpath\u001b[38;5;241m.\u001b[39mjoin(latest_dir,\u001b[38;5;28mself\u001b[39m\u001b[38;5;241m.\u001b[39mtransformer_dir_name,PREPROCSSING_OBJECT_FILE_NAME)\n\u001b[1;32m     71\u001b[0m \u001b[38;5;28;01mexcept\u001b[39;00m \u001b[38;5;167;01mException\u001b[39;00m \u001b[38;5;28;01mas\u001b[39;00m e:\n",
      "\u001b[0;31mException\u001b[0m: Transformer is not available"
     ]
    }
   ],
   "source": [
    "#Finding location of transformer and target encoder\n",
    "transformer_path = model_resolver.get_latest_transformer_path()\n",
    "model_path = model_resolver.get_latest_model_path()\n",
    "target_encoder_path = model_resolver.get_latest_target_encoder_path()"
   ]
  },
  {
   "cell_type": "code",
   "execution_count": 12,
   "metadata": {},
   "outputs": [],
   "source": [
    "\n",
    "# logging.info(f\"Current trained objects of transformer, model and target encoder\")\n",
    "current_transformer = load_object(file_path=data_transformation_artifact.transformed_object_file_path) \n",
    "current_model = load_object(file_path=model_trainer_artifact.trained_model_file_path) \n",
    "current_target_encoder = load_object(file_path=data_transformation_artifact.target_encoder_path)\n",
    "\n",
    "# valid_train_file_path = self.data_validation_artifact.valid_train_file_path\n",
    "valid_test_file_path = data_validation_artifact.valid_test_file_path\n",
    "\n",
    "#valid train and test file dataframe\n",
    "# train_df = pd.read_csv(valid_train_file_path)\n",
    "test_df = pd.read_csv(valid_test_file_path)\n",
    "\n",
    "\n",
    "# y_true = test_df[TARGET_COLUMN]\n",
    "# y_true = target_encoder.transform(y_true) \n",
    "# test_df.drop(TARGET_COLUMN,axis=1,inplace=True)\n"
   ]
  },
  {
   "cell_type": "code",
   "execution_count": 13,
   "metadata": {},
   "outputs": [
    {
     "data": {
      "text/html": [
       "<div>\n",
       "<style scoped>\n",
       "    .dataframe tbody tr th:only-of-type {\n",
       "        vertical-align: middle;\n",
       "    }\n",
       "\n",
       "    .dataframe tbody tr th {\n",
       "        vertical-align: top;\n",
       "    }\n",
       "\n",
       "    .dataframe thead th {\n",
       "        text-align: right;\n",
       "    }\n",
       "</style>\n",
       "<table border=\"1\" class=\"dataframe\">\n",
       "  <thead>\n",
       "    <tr style=\"text-align: right;\">\n",
       "      <th></th>\n",
       "      <th>age</th>\n",
       "      <th>gender</th>\n",
       "      <th>impluse</th>\n",
       "      <th>pressurehight</th>\n",
       "      <th>pressurelow</th>\n",
       "      <th>glucose</th>\n",
       "      <th>kcm</th>\n",
       "      <th>troponin</th>\n",
       "      <th>class</th>\n",
       "    </tr>\n",
       "  </thead>\n",
       "  <tbody>\n",
       "    <tr>\n",
       "      <th>0</th>\n",
       "      <td>64</td>\n",
       "      <td>0</td>\n",
       "      <td>68</td>\n",
       "      <td>91</td>\n",
       "      <td>61</td>\n",
       "      <td>119.0</td>\n",
       "      <td>2.97</td>\n",
       "      <td>1.530</td>\n",
       "      <td>positive</td>\n",
       "    </tr>\n",
       "    <tr>\n",
       "      <th>1</th>\n",
       "      <td>43</td>\n",
       "      <td>0</td>\n",
       "      <td>79</td>\n",
       "      <td>89</td>\n",
       "      <td>57</td>\n",
       "      <td>98.0</td>\n",
       "      <td>2.46</td>\n",
       "      <td>0.006</td>\n",
       "      <td>negative</td>\n",
       "    </tr>\n",
       "    <tr>\n",
       "      <th>2</th>\n",
       "      <td>82</td>\n",
       "      <td>1</td>\n",
       "      <td>62</td>\n",
       "      <td>126</td>\n",
       "      <td>65</td>\n",
       "      <td>137.0</td>\n",
       "      <td>39.53</td>\n",
       "      <td>0.006</td>\n",
       "      <td>positive</td>\n",
       "    </tr>\n",
       "    <tr>\n",
       "      <th>3</th>\n",
       "      <td>34</td>\n",
       "      <td>0</td>\n",
       "      <td>81</td>\n",
       "      <td>125</td>\n",
       "      <td>69</td>\n",
       "      <td>152.0</td>\n",
       "      <td>2.07</td>\n",
       "      <td>0.013</td>\n",
       "      <td>negative</td>\n",
       "    </tr>\n",
       "    <tr>\n",
       "      <th>4</th>\n",
       "      <td>41</td>\n",
       "      <td>1</td>\n",
       "      <td>86</td>\n",
       "      <td>113</td>\n",
       "      <td>68</td>\n",
       "      <td>100.0</td>\n",
       "      <td>4.58</td>\n",
       "      <td>0.003</td>\n",
       "      <td>negative</td>\n",
       "    </tr>\n",
       "    <tr>\n",
       "      <th>...</th>\n",
       "      <td>...</td>\n",
       "      <td>...</td>\n",
       "      <td>...</td>\n",
       "      <td>...</td>\n",
       "      <td>...</td>\n",
       "      <td>...</td>\n",
       "      <td>...</td>\n",
       "      <td>...</td>\n",
       "      <td>...</td>\n",
       "    </tr>\n",
       "    <tr>\n",
       "      <th>259</th>\n",
       "      <td>66</td>\n",
       "      <td>1</td>\n",
       "      <td>66</td>\n",
       "      <td>160</td>\n",
       "      <td>83</td>\n",
       "      <td>103.0</td>\n",
       "      <td>71.77</td>\n",
       "      <td>0.015</td>\n",
       "      <td>positive</td>\n",
       "    </tr>\n",
       "    <tr>\n",
       "      <th>260</th>\n",
       "      <td>79</td>\n",
       "      <td>1</td>\n",
       "      <td>89</td>\n",
       "      <td>140</td>\n",
       "      <td>100</td>\n",
       "      <td>157.0</td>\n",
       "      <td>4.74</td>\n",
       "      <td>0.191</td>\n",
       "      <td>positive</td>\n",
       "    </tr>\n",
       "    <tr>\n",
       "      <th>261</th>\n",
       "      <td>64</td>\n",
       "      <td>1</td>\n",
       "      <td>65</td>\n",
       "      <td>155</td>\n",
       "      <td>75</td>\n",
       "      <td>107.0</td>\n",
       "      <td>1.30</td>\n",
       "      <td>0.004</td>\n",
       "      <td>negative</td>\n",
       "    </tr>\n",
       "    <tr>\n",
       "      <th>262</th>\n",
       "      <td>72</td>\n",
       "      <td>0</td>\n",
       "      <td>75</td>\n",
       "      <td>160</td>\n",
       "      <td>70</td>\n",
       "      <td>130.0</td>\n",
       "      <td>8.54</td>\n",
       "      <td>0.015</td>\n",
       "      <td>positive</td>\n",
       "    </tr>\n",
       "    <tr>\n",
       "      <th>263</th>\n",
       "      <td>51</td>\n",
       "      <td>1</td>\n",
       "      <td>83</td>\n",
       "      <td>102</td>\n",
       "      <td>68</td>\n",
       "      <td>157.0</td>\n",
       "      <td>2.50</td>\n",
       "      <td>0.036</td>\n",
       "      <td>positive</td>\n",
       "    </tr>\n",
       "  </tbody>\n",
       "</table>\n",
       "<p>264 rows × 9 columns</p>\n",
       "</div>"
      ],
      "text/plain": [
       "     age  gender  impluse  pressurehight  pressurelow  glucose    kcm  \\\n",
       "0     64       0       68             91           61    119.0   2.97   \n",
       "1     43       0       79             89           57     98.0   2.46   \n",
       "2     82       1       62            126           65    137.0  39.53   \n",
       "3     34       0       81            125           69    152.0   2.07   \n",
       "4     41       1       86            113           68    100.0   4.58   \n",
       "..   ...     ...      ...            ...          ...      ...    ...   \n",
       "259   66       1       66            160           83    103.0  71.77   \n",
       "260   79       1       89            140          100    157.0   4.74   \n",
       "261   64       1       65            155           75    107.0   1.30   \n",
       "262   72       0       75            160           70    130.0   8.54   \n",
       "263   51       1       83            102           68    157.0   2.50   \n",
       "\n",
       "     troponin     class  \n",
       "0       1.530  positive  \n",
       "1       0.006  negative  \n",
       "2       0.006  positive  \n",
       "3       0.013  negative  \n",
       "4       0.003  negative  \n",
       "..        ...       ...  \n",
       "259     0.015  positive  \n",
       "260     0.191  positive  \n",
       "261     0.004  negative  \n",
       "262     0.015  positive  \n",
       "263     0.036  positive  \n",
       "\n",
       "[264 rows x 9 columns]"
      ]
     },
     "execution_count": 13,
     "metadata": {},
     "output_type": "execute_result"
    }
   ],
   "source": [
    "test_df"
   ]
  },
  {
   "cell_type": "code",
   "execution_count": 14,
   "metadata": {},
   "outputs": [
    {
     "data": {
      "text/plain": [
       "array([1, 0, 1, 0, 0, 1, 1, 1, 1, 1, 1, 0, 0, 1, 1, 0, 0, 1, 0, 0, 1, 1,\n",
       "       1, 0, 1, 0, 0, 0, 1, 1, 0, 1, 1, 1, 0, 1, 0, 1, 0, 1, 0, 0, 0, 1,\n",
       "       1, 0, 1, 0, 0, 1, 0, 1, 1, 1, 0, 0, 0, 1, 1, 0, 0, 1, 1, 1, 0, 0,\n",
       "       0, 1, 0, 1, 0, 1, 1, 1, 0, 1, 0, 1, 1, 0, 0, 0, 0, 1, 0, 1, 1, 1,\n",
       "       0, 0, 1, 0, 1, 0, 1, 1, 1, 1, 1, 1, 1, 0, 1, 1, 0, 1, 1, 1, 1, 1,\n",
       "       1, 1, 1, 1, 0, 0, 1, 0, 1, 1, 0, 0, 1, 1, 1, 1, 0, 1, 0, 0, 0, 1,\n",
       "       0, 1, 0, 1, 1, 1, 1, 0, 0, 1, 1, 1, 1, 1, 1, 1, 1, 1, 1, 0, 0, 1,\n",
       "       1, 1, 0, 0, 1, 1, 1, 1, 1, 0, 0, 0, 1, 1, 1, 0, 1, 1, 1, 1, 1, 1,\n",
       "       1, 0, 0, 1, 1, 1, 0, 1, 0, 1, 1, 1, 1, 1, 0, 1, 1, 0, 0, 0, 1, 1,\n",
       "       0, 0, 1, 0, 0, 1, 1, 1, 0, 1, 0, 1, 0, 1, 1, 0, 1, 1, 0, 1, 1, 0,\n",
       "       0, 1, 1, 0, 1, 1, 1, 1, 1, 0, 0, 1, 1, 1, 0, 1, 1, 0, 0, 0, 1, 0,\n",
       "       0, 1, 0, 0, 1, 1, 0, 0, 1, 1, 1, 1, 1, 1, 1, 1, 0, 1, 1, 0, 1, 1])"
      ]
     },
     "execution_count": 14,
     "metadata": {},
     "output_type": "execute_result"
    }
   ],
   "source": [
    "y_true = test_df[TARGET_COLUMN]\n",
    "y_true = current_target_encoder.transform(y_true) \n",
    "# test_df.drop(TARGET_COLUMN,axis=1,inplace=True)\n",
    "y_true"
   ]
  },
  {
   "cell_type": "code",
   "execution_count": 18,
   "metadata": {},
   "outputs": [],
   "source": [
    "input_feature_name = current_transformer.feature_names_in_"
   ]
  },
  {
   "cell_type": "code",
   "execution_count": 24,
   "metadata": {},
   "outputs": [
    {
     "data": {
      "text/plain": [
       "(264, 8)"
      ]
     },
     "execution_count": 24,
     "metadata": {},
     "output_type": "execute_result"
    }
   ],
   "source": [
    "input_arr = test_df[input_feature_name]\n",
    "input_arr.shape"
   ]
  },
  {
   "cell_type": "code",
   "execution_count": 25,
   "metadata": {},
   "outputs": [],
   "source": [
    "y_pred = current_model.predict(input_arr)"
   ]
  },
  {
   "cell_type": "code",
   "execution_count": 23,
   "metadata": {},
   "outputs": [
    {
     "data": {
      "text/plain": [
       "<heart.ml.model.estimator.HeartModel at 0x7f7708ea4bb0>"
      ]
     },
     "execution_count": 23,
     "metadata": {},
     "output_type": "execute_result"
    }
   ],
   "source": [
    "current_model"
   ]
  },
  {
   "cell_type": "code",
   "execution_count": 26,
   "metadata": {},
   "outputs": [
    {
     "data": {
      "text/plain": [
       "ClassificationMetricArtifact(f1_score=0.9845201238390092, precision_score=0.9875776397515528, recall_score=0.9814814814814815)"
      ]
     },
     "execution_count": 26,
     "metadata": {},
     "output_type": "execute_result"
    }
   ],
   "source": [
    "get_classification_score(y_true,y_pred)"
   ]
  },
  {
   "cell_type": "code",
   "execution_count": 27,
   "metadata": {},
   "outputs": [
    {
     "data": {
      "text/plain": [
       "array(['positive', 'negative', 'positive', 'negative', 'negative'],\n",
       "      dtype=object)"
      ]
     },
     "execution_count": 27,
     "metadata": {},
     "output_type": "execute_result"
    }
   ],
   "source": [
    "current_target_encoder.inverse_transform(y_pred[:5])"
   ]
  },
  {
   "cell_type": "code",
   "execution_count": 5,
   "metadata": {},
   "outputs": [],
   "source": [
    "timestamps =  list(map(int,os.listdir(\"saved_models\")))\n",
    "latest_timestamp = max(timestamps)\n",
    "latest_model_path= os.path.join(\"saved_models\",f\"{latest_timestamp}\",\"model\",\"model.pkl\")"
   ]
  },
  {
   "cell_type": "code",
   "execution_count": 6,
   "metadata": {},
   "outputs": [
    {
     "data": {
      "text/plain": [
       "'saved_models/1704372023/model/model.pkl'"
      ]
     },
     "execution_count": 6,
     "metadata": {},
     "output_type": "execute_result"
    }
   ],
   "source": [
    "latest_model_path"
   ]
  },
  {
   "cell_type": "code",
   "execution_count": null,
   "metadata": {},
   "outputs": [],
   "source": []
  }
 ],
 "metadata": {
  "kernelspec": {
   "display_name": "Python 3",
   "language": "python",
   "name": "python3"
  },
  "language_info": {
   "codemirror_mode": {
    "name": "ipython",
    "version": 3
   },
   "file_extension": ".py",
   "mimetype": "text/x-python",
   "name": "python",
   "nbconvert_exporter": "python",
   "pygments_lexer": "ipython3",
   "version": "3.9.0"
  }
 },
 "nbformat": 4,
 "nbformat_minor": 2
}
